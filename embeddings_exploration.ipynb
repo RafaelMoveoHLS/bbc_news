{
 "cells": [
  {
   "cell_type": "markdown",
   "metadata": {},
   "source": [
    "# The models we will use\n",
    "- sentence-transformers/multi-qa-mpnet-base-dot-v1:\n",
    "    - This model is pre-trained on a large corpus of natural questions and answers.\n",
    "    - It is used to calculate sentence embeddings, which can be used for semantic similarity between sentences.\n",
    "    - The model is fine-tuned on a specific task, such as answering questions based on given context.\n",
    "- E5-large-v2\n",
    "    - E5 is a transformer-based model, trained to generate embeddings for a wide variety of NLP tasks, including semantic search. It excels at capturing both query intent and document meaning.\n",
    "- OpenAI text-embedding-3-small (via API)\n",
    "    - This model is a smaller version of the OpenAI text-embedding-3 model, one of the most powerful embedding models offered by OpenAI. It generates dense, high-quality embeddings optimized for a wide range of tasks, including semantic search."
   ]
  },
  {
   "cell_type": "markdown",
   "metadata": {},
   "source": [
    "Load BBC News Data"
   ]
  },
  {
   "cell_type": "code",
   "execution_count": 75,
   "metadata": {},
   "outputs": [
    {
     "data": {
      "text/html": [
       "<div>\n",
       "<style scoped>\n",
       "    .dataframe tbody tr th:only-of-type {\n",
       "        vertical-align: middle;\n",
       "    }\n",
       "\n",
       "    .dataframe tbody tr th {\n",
       "        vertical-align: top;\n",
       "    }\n",
       "\n",
       "    .dataframe thead th {\n",
       "        text-align: right;\n",
       "    }\n",
       "</style>\n",
       "<table border=\"1\" class=\"dataframe\">\n",
       "  <thead>\n",
       "    <tr style=\"text-align: right;\">\n",
       "      <th></th>\n",
       "      <th>title</th>\n",
       "      <th>pubDate</th>\n",
       "      <th>guid</th>\n",
       "      <th>link</th>\n",
       "      <th>description</th>\n",
       "    </tr>\n",
       "  </thead>\n",
       "  <tbody>\n",
       "    <tr>\n",
       "      <th>0</th>\n",
       "      <td>Ukraine: Angry Zelensky vows to punish Russian...</td>\n",
       "      <td>Mon, 07 Mar 2022 08:01:56 GMT</td>\n",
       "      <td>https://www.bbc.co.uk/news/world-europe-60638042</td>\n",
       "      <td>https://www.bbc.co.uk/news/world-europe-606380...</td>\n",
       "      <td>The Ukrainian president says the country will ...</td>\n",
       "    </tr>\n",
       "    <tr>\n",
       "      <th>1</th>\n",
       "      <td>War in Ukraine: Taking cover in a town under a...</td>\n",
       "      <td>Sun, 06 Mar 2022 22:49:58 GMT</td>\n",
       "      <td>https://www.bbc.co.uk/news/world-europe-60641873</td>\n",
       "      <td>https://www.bbc.co.uk/news/world-europe-606418...</td>\n",
       "      <td>Jeremy Bowen was on the frontline in Irpin, as...</td>\n",
       "    </tr>\n",
       "    <tr>\n",
       "      <th>2</th>\n",
       "      <td>Ukraine war 'catastrophic for global food'</td>\n",
       "      <td>Mon, 07 Mar 2022 00:14:42 GMT</td>\n",
       "      <td>https://www.bbc.co.uk/news/business-60623941</td>\n",
       "      <td>https://www.bbc.co.uk/news/business-60623941?a...</td>\n",
       "      <td>One of the world's biggest fertiliser firms sa...</td>\n",
       "    </tr>\n",
       "    <tr>\n",
       "      <th>3</th>\n",
       "      <td>Manchester Arena bombing: Saffie Roussos's par...</td>\n",
       "      <td>Mon, 07 Mar 2022 00:05:40 GMT</td>\n",
       "      <td>https://www.bbc.co.uk/news/uk-60579079</td>\n",
       "      <td>https://www.bbc.co.uk/news/uk-60579079?at_medi...</td>\n",
       "      <td>The parents of the Manchester Arena bombing's ...</td>\n",
       "    </tr>\n",
       "    <tr>\n",
       "      <th>4</th>\n",
       "      <td>Ukraine conflict: Oil price soars to highest l...</td>\n",
       "      <td>Mon, 07 Mar 2022 08:15:53 GMT</td>\n",
       "      <td>https://www.bbc.co.uk/news/business-60642786</td>\n",
       "      <td>https://www.bbc.co.uk/news/business-60642786?a...</td>\n",
       "      <td>Consumers are feeling the impact of higher ene...</td>\n",
       "    </tr>\n",
       "  </tbody>\n",
       "</table>\n",
       "</div>"
      ],
      "text/plain": [
       "                                               title  \\\n",
       "0  Ukraine: Angry Zelensky vows to punish Russian...   \n",
       "1  War in Ukraine: Taking cover in a town under a...   \n",
       "2         Ukraine war 'catastrophic for global food'   \n",
       "3  Manchester Arena bombing: Saffie Roussos's par...   \n",
       "4  Ukraine conflict: Oil price soars to highest l...   \n",
       "\n",
       "                         pubDate  \\\n",
       "0  Mon, 07 Mar 2022 08:01:56 GMT   \n",
       "1  Sun, 06 Mar 2022 22:49:58 GMT   \n",
       "2  Mon, 07 Mar 2022 00:14:42 GMT   \n",
       "3  Mon, 07 Mar 2022 00:05:40 GMT   \n",
       "4  Mon, 07 Mar 2022 08:15:53 GMT   \n",
       "\n",
       "                                               guid  \\\n",
       "0  https://www.bbc.co.uk/news/world-europe-60638042   \n",
       "1  https://www.bbc.co.uk/news/world-europe-60641873   \n",
       "2      https://www.bbc.co.uk/news/business-60623941   \n",
       "3            https://www.bbc.co.uk/news/uk-60579079   \n",
       "4      https://www.bbc.co.uk/news/business-60642786   \n",
       "\n",
       "                                                link  \\\n",
       "0  https://www.bbc.co.uk/news/world-europe-606380...   \n",
       "1  https://www.bbc.co.uk/news/world-europe-606418...   \n",
       "2  https://www.bbc.co.uk/news/business-60623941?a...   \n",
       "3  https://www.bbc.co.uk/news/uk-60579079?at_medi...   \n",
       "4  https://www.bbc.co.uk/news/business-60642786?a...   \n",
       "\n",
       "                                         description  \n",
       "0  The Ukrainian president says the country will ...  \n",
       "1  Jeremy Bowen was on the frontline in Irpin, as...  \n",
       "2  One of the world's biggest fertiliser firms sa...  \n",
       "3  The parents of the Manchester Arena bombing's ...  \n",
       "4  Consumers are feeling the impact of higher ene...  "
      ]
     },
     "execution_count": 75,
     "metadata": {},
     "output_type": "execute_result"
    }
   ],
   "source": [
    "import pandas as pd\n",
    "\n",
    "# Load the dataset\n",
    "file_path = 'bbc_news_data/bbc_news.csv'\n",
    "df = pd.read_csv(file_path)\n",
    "\n",
    "# Display the first few rows to confirm the data is loaded correctly\n",
    "df.head()"
   ]
  },
  {
   "cell_type": "markdown",
   "metadata": {},
   "source": [
    "Filter News for the First Half of 2024"
   ]
  },
  {
   "cell_type": "code",
   "execution_count": 76,
   "metadata": {},
   "outputs": [
    {
     "name": "stdout",
     "output_type": "stream",
     "text": [
      "Filtered 7305 unique news articles.\n"
     ]
    },
    {
     "data": {
      "text/html": [
       "<div>\n",
       "<style scoped>\n",
       "    .dataframe tbody tr th:only-of-type {\n",
       "        vertical-align: middle;\n",
       "    }\n",
       "\n",
       "    .dataframe tbody tr th {\n",
       "        vertical-align: top;\n",
       "    }\n",
       "\n",
       "    .dataframe thead th {\n",
       "        text-align: right;\n",
       "    }\n",
       "</style>\n",
       "<table border=\"1\" class=\"dataframe\">\n",
       "  <thead>\n",
       "    <tr style=\"text-align: right;\">\n",
       "      <th></th>\n",
       "      <th>title</th>\n",
       "      <th>pubDate</th>\n",
       "      <th>guid</th>\n",
       "      <th>link</th>\n",
       "      <th>description</th>\n",
       "    </tr>\n",
       "  </thead>\n",
       "  <tbody>\n",
       "    <tr>\n",
       "      <th>0</th>\n",
       "      <td>Justin Welby: Political leaders should treat o...</td>\n",
       "      <td>2024-01-01 00:00:04</td>\n",
       "      <td>https://www.bbc.co.uk/news/uk-67844356</td>\n",
       "      <td>https://www.bbc.co.uk/news/uk-67844356?at_medi...</td>\n",
       "      <td>The Archbishop of Canterbury urges politicians...</td>\n",
       "    </tr>\n",
       "    <tr>\n",
       "      <th>1</th>\n",
       "      <td>Almost three million tested for cancer in England</td>\n",
       "      <td>2024-01-01 00:09:56</td>\n",
       "      <td>https://www.bbc.co.uk/news/health-67841348</td>\n",
       "      <td>https://www.bbc.co.uk/news/health-67841348?at_...</td>\n",
       "      <td>Record numbers are being tested for cancer but...</td>\n",
       "    </tr>\n",
       "    <tr>\n",
       "      <th>2</th>\n",
       "      <td>Household energy price rise of 5% comes into f...</td>\n",
       "      <td>2024-01-01 00:00:16</td>\n",
       "      <td>https://www.bbc.co.uk/news/business-67785266</td>\n",
       "      <td>https://www.bbc.co.uk/news/business-67785266?a...</td>\n",
       "      <td>A higher cap for the next three months adds £9...</td>\n",
       "    </tr>\n",
       "    <tr>\n",
       "      <th>3</th>\n",
       "      <td>Primrose Hill stabbing: Harry Pitman named as ...</td>\n",
       "      <td>2024-01-01 17:11:13</td>\n",
       "      <td>https://www.bbc.co.uk/news/uk-england-london-6...</td>\n",
       "      <td>https://www.bbc.co.uk/news/uk-england-london-6...</td>\n",
       "      <td>Harry Pitman, 16, was attacked on London's Pri...</td>\n",
       "    </tr>\n",
       "    <tr>\n",
       "      <th>4</th>\n",
       "      <td>Israel Supreme Court strikes down judicial ref...</td>\n",
       "      <td>2024-01-01 19:47:58</td>\n",
       "      <td>https://www.bbc.co.uk/news/world-middle-east-6...</td>\n",
       "      <td>https://www.bbc.co.uk/news/world-middle-east-6...</td>\n",
       "      <td>The controversial plans triggered nationwide p...</td>\n",
       "    </tr>\n",
       "  </tbody>\n",
       "</table>\n",
       "</div>"
      ],
      "text/plain": [
       "                                               title             pubDate  \\\n",
       "0  Justin Welby: Political leaders should treat o... 2024-01-01 00:00:04   \n",
       "1  Almost three million tested for cancer in England 2024-01-01 00:09:56   \n",
       "2  Household energy price rise of 5% comes into f... 2024-01-01 00:00:16   \n",
       "3  Primrose Hill stabbing: Harry Pitman named as ... 2024-01-01 17:11:13   \n",
       "4  Israel Supreme Court strikes down judicial ref... 2024-01-01 19:47:58   \n",
       "\n",
       "                                                guid  \\\n",
       "0             https://www.bbc.co.uk/news/uk-67844356   \n",
       "1         https://www.bbc.co.uk/news/health-67841348   \n",
       "2       https://www.bbc.co.uk/news/business-67785266   \n",
       "3  https://www.bbc.co.uk/news/uk-england-london-6...   \n",
       "4  https://www.bbc.co.uk/news/world-middle-east-6...   \n",
       "\n",
       "                                                link  \\\n",
       "0  https://www.bbc.co.uk/news/uk-67844356?at_medi...   \n",
       "1  https://www.bbc.co.uk/news/health-67841348?at_...   \n",
       "2  https://www.bbc.co.uk/news/business-67785266?a...   \n",
       "3  https://www.bbc.co.uk/news/uk-england-london-6...   \n",
       "4  https://www.bbc.co.uk/news/world-middle-east-6...   \n",
       "\n",
       "                                         description  \n",
       "0  The Archbishop of Canterbury urges politicians...  \n",
       "1  Record numbers are being tested for cancer but...  \n",
       "2  A higher cap for the next three months adds £9...  \n",
       "3  Harry Pitman, 16, was attacked on London's Pri...  \n",
       "4  The controversial plans triggered nationwide p...  "
      ]
     },
     "execution_count": 76,
     "metadata": {},
     "output_type": "execute_result"
    }
   ],
   "source": [
    "# Convert the 'pubDate' to datetime format\n",
    "df['pubDate'] = pd.to_datetime(df['pubDate'], errors='coerce')\n",
    "\n",
    "# Filter news from January to June 2024\n",
    "df_filtered = df[(df['pubDate'] >= '2024-01-01') & (df['pubDate'] < '2024-07-01')]\n",
    "\n",
    "# Drop duplicates based on 'title' or 'description'\n",
    "df_filtered = df_filtered.drop_duplicates(subset=['title'], keep='first')\n",
    "\n",
    "# Drop duplicates based on 'description'\n",
    "df_filtered = df_filtered.drop_duplicates(subset=['description'], keep='first')\n",
    "\n",
    "# Reset the index after filtering and removing duplicates\n",
    "df_filtered = df_filtered.reset_index(drop=True)\n",
    "\n",
    "print(f\"Filtered {len(df_filtered)} unique news articles.\")\n",
    "df_filtered.head()"
   ]
  },
  {
   "cell_type": "markdown",
   "metadata": {},
   "source": [
    "Merge title and description Columns"
   ]
  },
  {
   "cell_type": "code",
   "execution_count": 79,
   "metadata": {},
   "outputs": [
    {
     "data": {
      "text/html": [
       "<div>\n",
       "<style scoped>\n",
       "    .dataframe tbody tr th:only-of-type {\n",
       "        vertical-align: middle;\n",
       "    }\n",
       "\n",
       "    .dataframe tbody tr th {\n",
       "        vertical-align: top;\n",
       "    }\n",
       "\n",
       "    .dataframe thead th {\n",
       "        text-align: right;\n",
       "    }\n",
       "</style>\n",
       "<table border=\"1\" class=\"dataframe\">\n",
       "  <thead>\n",
       "    <tr style=\"text-align: right;\">\n",
       "      <th></th>\n",
       "      <th>title</th>\n",
       "      <th>pubDate</th>\n",
       "      <th>guid</th>\n",
       "      <th>link</th>\n",
       "      <th>description</th>\n",
       "      <th>content</th>\n",
       "    </tr>\n",
       "  </thead>\n",
       "  <tbody>\n",
       "    <tr>\n",
       "      <th>0</th>\n",
       "      <td>Justin Welby: Political leaders should treat o...</td>\n",
       "      <td>2024-01-01 00:00:04</td>\n",
       "      <td>https://www.bbc.co.uk/news/uk-67844356</td>\n",
       "      <td>https://www.bbc.co.uk/news/uk-67844356?at_medi...</td>\n",
       "      <td>The Archbishop of Canterbury urges politicians...</td>\n",
       "      <td>Justin Welby: Political leaders should treat o...</td>\n",
       "    </tr>\n",
       "    <tr>\n",
       "      <th>1</th>\n",
       "      <td>Almost three million tested for cancer in England</td>\n",
       "      <td>2024-01-01 00:09:56</td>\n",
       "      <td>https://www.bbc.co.uk/news/health-67841348</td>\n",
       "      <td>https://www.bbc.co.uk/news/health-67841348?at_...</td>\n",
       "      <td>Record numbers are being tested for cancer but...</td>\n",
       "      <td>Almost three million tested for cancer in Engl...</td>\n",
       "    </tr>\n",
       "    <tr>\n",
       "      <th>2</th>\n",
       "      <td>Household energy price rise of 5% comes into f...</td>\n",
       "      <td>2024-01-01 00:00:16</td>\n",
       "      <td>https://www.bbc.co.uk/news/business-67785266</td>\n",
       "      <td>https://www.bbc.co.uk/news/business-67785266?a...</td>\n",
       "      <td>A higher cap for the next three months adds £9...</td>\n",
       "      <td>Household energy price rise of 5% comes into f...</td>\n",
       "    </tr>\n",
       "    <tr>\n",
       "      <th>3</th>\n",
       "      <td>Primrose Hill stabbing: Harry Pitman named as ...</td>\n",
       "      <td>2024-01-01 17:11:13</td>\n",
       "      <td>https://www.bbc.co.uk/news/uk-england-london-6...</td>\n",
       "      <td>https://www.bbc.co.uk/news/uk-england-london-6...</td>\n",
       "      <td>Harry Pitman, 16, was attacked on London's Pri...</td>\n",
       "      <td>Primrose Hill stabbing: Harry Pitman named as ...</td>\n",
       "    </tr>\n",
       "    <tr>\n",
       "      <th>4</th>\n",
       "      <td>Israel Supreme Court strikes down judicial ref...</td>\n",
       "      <td>2024-01-01 19:47:58</td>\n",
       "      <td>https://www.bbc.co.uk/news/world-middle-east-6...</td>\n",
       "      <td>https://www.bbc.co.uk/news/world-middle-east-6...</td>\n",
       "      <td>The controversial plans triggered nationwide p...</td>\n",
       "      <td>Israel Supreme Court strikes down judicial ref...</td>\n",
       "    </tr>\n",
       "  </tbody>\n",
       "</table>\n",
       "</div>"
      ],
      "text/plain": [
       "                                               title             pubDate  \\\n",
       "0  Justin Welby: Political leaders should treat o... 2024-01-01 00:00:04   \n",
       "1  Almost three million tested for cancer in England 2024-01-01 00:09:56   \n",
       "2  Household energy price rise of 5% comes into f... 2024-01-01 00:00:16   \n",
       "3  Primrose Hill stabbing: Harry Pitman named as ... 2024-01-01 17:11:13   \n",
       "4  Israel Supreme Court strikes down judicial ref... 2024-01-01 19:47:58   \n",
       "\n",
       "                                                guid  \\\n",
       "0             https://www.bbc.co.uk/news/uk-67844356   \n",
       "1         https://www.bbc.co.uk/news/health-67841348   \n",
       "2       https://www.bbc.co.uk/news/business-67785266   \n",
       "3  https://www.bbc.co.uk/news/uk-england-london-6...   \n",
       "4  https://www.bbc.co.uk/news/world-middle-east-6...   \n",
       "\n",
       "                                                link  \\\n",
       "0  https://www.bbc.co.uk/news/uk-67844356?at_medi...   \n",
       "1  https://www.bbc.co.uk/news/health-67841348?at_...   \n",
       "2  https://www.bbc.co.uk/news/business-67785266?a...   \n",
       "3  https://www.bbc.co.uk/news/uk-england-london-6...   \n",
       "4  https://www.bbc.co.uk/news/world-middle-east-6...   \n",
       "\n",
       "                                         description  \\\n",
       "0  The Archbishop of Canterbury urges politicians...   \n",
       "1  Record numbers are being tested for cancer but...   \n",
       "2  A higher cap for the next three months adds £9...   \n",
       "3  Harry Pitman, 16, was attacked on London's Pri...   \n",
       "4  The controversial plans triggered nationwide p...   \n",
       "\n",
       "                                             content  \n",
       "0  Justin Welby: Political leaders should treat o...  \n",
       "1  Almost three million tested for cancer in Engl...  \n",
       "2  Household energy price rise of 5% comes into f...  \n",
       "3  Primrose Hill stabbing: Harry Pitman named as ...  \n",
       "4  Israel Supreme Court strikes down judicial ref...  "
      ]
     },
     "execution_count": 79,
     "metadata": {},
     "output_type": "execute_result"
    }
   ],
   "source": [
    "# Create a new column 'content' by merging 'title' and 'description'\n",
    "df_filtered['content'] = df_filtered['title'].fillna('') + ' ' + df_filtered['description'].fillna('')\n",
    "\n",
    "df_filtered.head()"
   ]
  },
  {
   "cell_type": "code",
   "execution_count": 5,
   "metadata": {},
   "outputs": [
    {
     "name": "stderr",
     "output_type": "stream",
     "text": [
      "/Users/who/projects/task1/venv/lib/python3.11/site-packages/sentence_transformers/cross_encoder/CrossEncoder.py:13: TqdmExperimentalWarning: Using `tqdm.autonotebook.tqdm` in notebook mode. Use `tqdm.tqdm` instead to force console mode (e.g. in jupyter console)\n",
      "  from tqdm.autonotebook import tqdm, trange\n"
     ]
    }
   ],
   "source": [
    "from sentence_transformers import SentenceTransformer\n",
    "\n",
    "# Load the models\n",
    "model_mpnet = SentenceTransformer('sentence-transformers/multi-qa-mpnet-base-dot-v1')\n",
    "model_e5 = SentenceTransformer('intfloat/e5-large-v2')\n",
    "\n",
    "# Define embedding functions\n",
    "def embed_with_mpnet(texts):\n",
    "    return model_mpnet.encode(texts, convert_to_tensor=True)\n",
    "\n",
    "def embed_with_e5(texts):\n",
    "    return model_e5.encode(texts, convert_to_tensor=True)\n"
   ]
  },
  {
   "cell_type": "code",
   "execution_count": 52,
   "metadata": {},
   "outputs": [],
   "source": [
    "from openai import OpenAI\n",
    "client = OpenAI(api_key='<your api key>')\n",
    "\n",
    "def batch(iterable, batch_size):\n",
    "    \"\"\"Helper function to split a list into smaller batches.\"\"\"\n",
    "    for i in range(0, len(iterable), batch_size):\n",
    "        yield iterable[i:i + batch_size]\n",
    "\n",
    "def embed_with_openai_batched(texts, batch_size=5000):\n",
    "    \"\"\"Embed a list of texts using OpenAI API in batches.\"\"\"\n",
    "    emb_list = []\n",
    "\n",
    "    # Process texts in batches\n",
    "    for batch_texts in batch(texts, batch_size):\n",
    "        response = client.embeddings.create(\n",
    "            model=\"text-embedding-3-small\",\n",
    "            input=batch_texts\n",
    "        )\n",
    "        # Collect embeddings from the response\n",
    "        for emb in response.data:\n",
    "            emb_list.append(emb.embedding)\n",
    "\n",
    "    return emb_list\n",
    "\n"
   ]
  },
  {
   "cell_type": "markdown",
   "metadata": {},
   "source": [
    "if used on google colab"
   ]
  },
  {
   "cell_type": "code",
   "execution_count": 26,
   "metadata": {},
   "outputs": [],
   "source": [
    "# import numpy as np\n",
    "\n",
    "# # Generate embeddings for each model\n",
    "# df_embedded['mpnet_embedding'] = list(embed_with_mpnet(df_embedded['content'].tolist()))\n",
    "# df_embedded['e5_embedding'] = list(embed_with_e5(df_embedded['content'].tolist()))\n",
    "# df_embedded['openai_embedding'] = list(embed_with_openai(df_embedded['content'].tolist()))\n",
    "\n",
    "# # Save embeddings to a local file (NumPy format)\n",
    "# np.save('mpnet_embeddings.npy', np.array(df_embedded['mpnet_embedding'].tolist()))\n",
    "# np.save('e5_embeddings.npy', np.array(df_embedded['e5_embedding'].tolist()))\n",
    "# np.save('openai_embeddings.npy', np.array(df_embedded['openai_embedding'].tolist()))\n",
    "\n",
    "# print(\"Embeddings saved successfully.\")\n"
   ]
  },
  {
   "cell_type": "code",
   "execution_count": 80,
   "metadata": {},
   "outputs": [
    {
     "data": {
      "text/html": [
       "<div>\n",
       "<style scoped>\n",
       "    .dataframe tbody tr th:only-of-type {\n",
       "        vertical-align: middle;\n",
       "    }\n",
       "\n",
       "    .dataframe tbody tr th {\n",
       "        vertical-align: top;\n",
       "    }\n",
       "\n",
       "    .dataframe thead th {\n",
       "        text-align: right;\n",
       "    }\n",
       "</style>\n",
       "<table border=\"1\" class=\"dataframe\">\n",
       "  <thead>\n",
       "    <tr style=\"text-align: right;\">\n",
       "      <th></th>\n",
       "      <th>title</th>\n",
       "      <th>pubDate</th>\n",
       "      <th>guid</th>\n",
       "      <th>link</th>\n",
       "      <th>description</th>\n",
       "      <th>content</th>\n",
       "      <th>mpnet_embedding</th>\n",
       "      <th>e5_embedding</th>\n",
       "    </tr>\n",
       "  </thead>\n",
       "  <tbody>\n",
       "    <tr>\n",
       "      <th>0</th>\n",
       "      <td>Justin Welby: Political leaders should treat o...</td>\n",
       "      <td>2024-01-01 00:00:04</td>\n",
       "      <td>https://www.bbc.co.uk/news/uk-67844356</td>\n",
       "      <td>https://www.bbc.co.uk/news/uk-67844356?at_medi...</td>\n",
       "      <td>The Archbishop of Canterbury urges politicians...</td>\n",
       "      <td>Justin Welby: Political leaders should treat o...</td>\n",
       "      <td>[0.053571213, 0.08881092, -0.17919879, 0.08407...</td>\n",
       "      <td>[0.020664986, -0.03336663, -0.0038330439, -0.0...</td>\n",
       "    </tr>\n",
       "    <tr>\n",
       "      <th>1</th>\n",
       "      <td>Almost three million tested for cancer in England</td>\n",
       "      <td>2024-01-01 00:09:56</td>\n",
       "      <td>https://www.bbc.co.uk/news/health-67841348</td>\n",
       "      <td>https://www.bbc.co.uk/news/health-67841348?at_...</td>\n",
       "      <td>Record numbers are being tested for cancer but...</td>\n",
       "      <td>Almost three million tested for cancer in Engl...</td>\n",
       "      <td>[0.41341785, -0.009250954, -0.23477213, -0.173...</td>\n",
       "      <td>[0.0058183777, -0.04546223, -0.0034279262, -0....</td>\n",
       "    </tr>\n",
       "    <tr>\n",
       "      <th>2</th>\n",
       "      <td>Household energy price rise of 5% comes into f...</td>\n",
       "      <td>2024-01-01 00:00:16</td>\n",
       "      <td>https://www.bbc.co.uk/news/business-67785266</td>\n",
       "      <td>https://www.bbc.co.uk/news/business-67785266?a...</td>\n",
       "      <td>A higher cap for the next three months adds £9...</td>\n",
       "      <td>Household energy price rise of 5% comes into f...</td>\n",
       "      <td>[-0.22885162, -0.16641885, -0.20064497, -0.054...</td>\n",
       "      <td>[0.019705322, -0.033490993, 0.01671098, -0.023...</td>\n",
       "    </tr>\n",
       "    <tr>\n",
       "      <th>3</th>\n",
       "      <td>Primrose Hill stabbing: Harry Pitman named as ...</td>\n",
       "      <td>2024-01-01 17:11:13</td>\n",
       "      <td>https://www.bbc.co.uk/news/uk-england-london-6...</td>\n",
       "      <td>https://www.bbc.co.uk/news/uk-england-london-6...</td>\n",
       "      <td>Harry Pitman, 16, was attacked on London's Pri...</td>\n",
       "      <td>Primrose Hill stabbing: Harry Pitman named as ...</td>\n",
       "      <td>[0.10062553, 0.095038205, -0.1422333, 0.230631...</td>\n",
       "      <td>[-0.009218128, -0.057979673, -0.0024853114, -0...</td>\n",
       "    </tr>\n",
       "    <tr>\n",
       "      <th>4</th>\n",
       "      <td>Israel Supreme Court strikes down judicial ref...</td>\n",
       "      <td>2024-01-01 19:47:58</td>\n",
       "      <td>https://www.bbc.co.uk/news/world-middle-east-6...</td>\n",
       "      <td>https://www.bbc.co.uk/news/world-middle-east-6...</td>\n",
       "      <td>The controversial plans triggered nationwide p...</td>\n",
       "      <td>Israel Supreme Court strikes down judicial ref...</td>\n",
       "      <td>[0.18970646, 0.09234373, -0.18555368, -0.26797...</td>\n",
       "      <td>[-0.018320104, -0.03711855, 0.032993697, -0.03...</td>\n",
       "    </tr>\n",
       "    <tr>\n",
       "      <th>...</th>\n",
       "      <td>...</td>\n",
       "      <td>...</td>\n",
       "      <td>...</td>\n",
       "      <td>...</td>\n",
       "      <td>...</td>\n",
       "      <td>...</td>\n",
       "      <td>...</td>\n",
       "      <td>...</td>\n",
       "    </tr>\n",
       "    <tr>\n",
       "      <th>7300</th>\n",
       "      <td>Ex-Olympian among first-time election candidates</td>\n",
       "      <td>2024-06-30 20:59:43</td>\n",
       "      <td>https://www.bbc.com/news/articles/cw000381nzyo#12</td>\n",
       "      <td>https://www.bbc.com/news/articles/cw000381nzyo</td>\n",
       "      <td>Marc Jenkins said he had a \"massive case of im...</td>\n",
       "      <td>Ex-Olympian among first-time election candidat...</td>\n",
       "      <td>[-0.323094, 0.19344077, -0.115317434, -0.10344...</td>\n",
       "      <td>[0.0026792518, -0.056466263, 0.015168941, -0.0...</td>\n",
       "    </tr>\n",
       "    <tr>\n",
       "      <th>7301</th>\n",
       "      <td>Where are the seats that could decide the elec...</td>\n",
       "      <td>2024-06-25 14:49:05</td>\n",
       "      <td>https://www.bbc.com/news/articles/c133p016pg4o#1</td>\n",
       "      <td>https://www.bbc.com/news/articles/c133p016pg4o</td>\n",
       "      <td>The parties' top battleground targets across t...</td>\n",
       "      <td>Where are the seats that could decide the elec...</td>\n",
       "      <td>[-0.16227768, -0.15128608, -0.24611586, 0.1056...</td>\n",
       "      <td>[-0.004053095, -0.069911756, 0.0006357004, -0....</td>\n",
       "    </tr>\n",
       "    <tr>\n",
       "      <th>7302</th>\n",
       "      <td>I recognised my sister in video of refugees ca...</td>\n",
       "      <td>2024-06-30 22:46:01</td>\n",
       "      <td>https://www.bbc.com/news/articles/c3g3nk15jrdo#2</td>\n",
       "      <td>https://www.bbc.com/news/articles/c3g3nk15jrdo</td>\n",
       "      <td>Eritreans tell the BBC their relatives are bei...</td>\n",
       "      <td>I recognised my sister in video of refugees ca...</td>\n",
       "      <td>[0.002135083, -0.2321746, -0.25640497, -0.0904...</td>\n",
       "      <td>[-0.008929085, -0.0357612, 0.032336436, -0.041...</td>\n",
       "    </tr>\n",
       "    <tr>\n",
       "      <th>7303</th>\n",
       "      <td>'We have to accept this is England's identity'</td>\n",
       "      <td>2024-06-30 21:41:24</td>\n",
       "      <td>https://www.bbc.com/sport/football/articles/cx...</td>\n",
       "      <td>https://www.bbc.com/sport/football/articles/cx...</td>\n",
       "      <td>Former captain Alan Shearer on England's drama...</td>\n",
       "      <td>'We have to accept this is England's identity'...</td>\n",
       "      <td>[0.095595285, 0.20854455, -0.1086355, -0.11150...</td>\n",
       "      <td>[-0.012937819, -0.028105535, -0.007200785, -6....</td>\n",
       "    </tr>\n",
       "    <tr>\n",
       "      <th>7304</th>\n",
       "      <td>Penalties, red cards and shocks - England's 58...</td>\n",
       "      <td>2024-06-05 05:50:23</td>\n",
       "      <td>https://www.bbc.com/sport/football/articles/c5...</td>\n",
       "      <td>https://www.bbc.com/sport/football/articles/c5...</td>\n",
       "      <td>It has been 58 years since England's men last ...</td>\n",
       "      <td>Penalties, red cards and shocks - England's 58...</td>\n",
       "      <td>[-0.08639506, -0.12775579, -0.13718742, 0.3707...</td>\n",
       "      <td>[-0.009502503, -0.05450691, -0.015828261, -0.0...</td>\n",
       "    </tr>\n",
       "  </tbody>\n",
       "</table>\n",
       "<p>7305 rows × 8 columns</p>\n",
       "</div>"
      ],
      "text/plain": [
       "                                                  title             pubDate  \\\n",
       "0     Justin Welby: Political leaders should treat o... 2024-01-01 00:00:04   \n",
       "1     Almost three million tested for cancer in England 2024-01-01 00:09:56   \n",
       "2     Household energy price rise of 5% comes into f... 2024-01-01 00:00:16   \n",
       "3     Primrose Hill stabbing: Harry Pitman named as ... 2024-01-01 17:11:13   \n",
       "4     Israel Supreme Court strikes down judicial ref... 2024-01-01 19:47:58   \n",
       "...                                                 ...                 ...   \n",
       "7300   Ex-Olympian among first-time election candidates 2024-06-30 20:59:43   \n",
       "7301  Where are the seats that could decide the elec... 2024-06-25 14:49:05   \n",
       "7302  I recognised my sister in video of refugees ca... 2024-06-30 22:46:01   \n",
       "7303     'We have to accept this is England's identity' 2024-06-30 21:41:24   \n",
       "7304  Penalties, red cards and shocks - England's 58... 2024-06-05 05:50:23   \n",
       "\n",
       "                                                   guid  \\\n",
       "0                https://www.bbc.co.uk/news/uk-67844356   \n",
       "1            https://www.bbc.co.uk/news/health-67841348   \n",
       "2          https://www.bbc.co.uk/news/business-67785266   \n",
       "3     https://www.bbc.co.uk/news/uk-england-london-6...   \n",
       "4     https://www.bbc.co.uk/news/world-middle-east-6...   \n",
       "...                                                 ...   \n",
       "7300  https://www.bbc.com/news/articles/cw000381nzyo#12   \n",
       "7301   https://www.bbc.com/news/articles/c133p016pg4o#1   \n",
       "7302   https://www.bbc.com/news/articles/c3g3nk15jrdo#2   \n",
       "7303  https://www.bbc.com/sport/football/articles/cx...   \n",
       "7304  https://www.bbc.com/sport/football/articles/c5...   \n",
       "\n",
       "                                                   link  \\\n",
       "0     https://www.bbc.co.uk/news/uk-67844356?at_medi...   \n",
       "1     https://www.bbc.co.uk/news/health-67841348?at_...   \n",
       "2     https://www.bbc.co.uk/news/business-67785266?a...   \n",
       "3     https://www.bbc.co.uk/news/uk-england-london-6...   \n",
       "4     https://www.bbc.co.uk/news/world-middle-east-6...   \n",
       "...                                                 ...   \n",
       "7300     https://www.bbc.com/news/articles/cw000381nzyo   \n",
       "7301     https://www.bbc.com/news/articles/c133p016pg4o   \n",
       "7302     https://www.bbc.com/news/articles/c3g3nk15jrdo   \n",
       "7303  https://www.bbc.com/sport/football/articles/cx...   \n",
       "7304  https://www.bbc.com/sport/football/articles/c5...   \n",
       "\n",
       "                                            description  \\\n",
       "0     The Archbishop of Canterbury urges politicians...   \n",
       "1     Record numbers are being tested for cancer but...   \n",
       "2     A higher cap for the next three months adds £9...   \n",
       "3     Harry Pitman, 16, was attacked on London's Pri...   \n",
       "4     The controversial plans triggered nationwide p...   \n",
       "...                                                 ...   \n",
       "7300  Marc Jenkins said he had a \"massive case of im...   \n",
       "7301  The parties' top battleground targets across t...   \n",
       "7302  Eritreans tell the BBC their relatives are bei...   \n",
       "7303  Former captain Alan Shearer on England's drama...   \n",
       "7304  It has been 58 years since England's men last ...   \n",
       "\n",
       "                                                content  \\\n",
       "0     Justin Welby: Political leaders should treat o...   \n",
       "1     Almost three million tested for cancer in Engl...   \n",
       "2     Household energy price rise of 5% comes into f...   \n",
       "3     Primrose Hill stabbing: Harry Pitman named as ...   \n",
       "4     Israel Supreme Court strikes down judicial ref...   \n",
       "...                                                 ...   \n",
       "7300  Ex-Olympian among first-time election candidat...   \n",
       "7301  Where are the seats that could decide the elec...   \n",
       "7302  I recognised my sister in video of refugees ca...   \n",
       "7303  'We have to accept this is England's identity'...   \n",
       "7304  Penalties, red cards and shocks - England's 58...   \n",
       "\n",
       "                                        mpnet_embedding  \\\n",
       "0     [0.053571213, 0.08881092, -0.17919879, 0.08407...   \n",
       "1     [0.41341785, -0.009250954, -0.23477213, -0.173...   \n",
       "2     [-0.22885162, -0.16641885, -0.20064497, -0.054...   \n",
       "3     [0.10062553, 0.095038205, -0.1422333, 0.230631...   \n",
       "4     [0.18970646, 0.09234373, -0.18555368, -0.26797...   \n",
       "...                                                 ...   \n",
       "7300  [-0.323094, 0.19344077, -0.115317434, -0.10344...   \n",
       "7301  [-0.16227768, -0.15128608, -0.24611586, 0.1056...   \n",
       "7302  [0.002135083, -0.2321746, -0.25640497, -0.0904...   \n",
       "7303  [0.095595285, 0.20854455, -0.1086355, -0.11150...   \n",
       "7304  [-0.08639506, -0.12775579, -0.13718742, 0.3707...   \n",
       "\n",
       "                                           e5_embedding  \n",
       "0     [0.020664986, -0.03336663, -0.0038330439, -0.0...  \n",
       "1     [0.0058183777, -0.04546223, -0.0034279262, -0....  \n",
       "2     [0.019705322, -0.033490993, 0.01671098, -0.023...  \n",
       "3     [-0.009218128, -0.057979673, -0.0024853114, -0...  \n",
       "4     [-0.018320104, -0.03711855, 0.032993697, -0.03...  \n",
       "...                                                 ...  \n",
       "7300  [0.0026792518, -0.056466263, 0.015168941, -0.0...  \n",
       "7301  [-0.004053095, -0.069911756, 0.0006357004, -0....  \n",
       "7302  [-0.008929085, -0.0357612, 0.032336436, -0.041...  \n",
       "7303  [-0.012937819, -0.028105535, -0.007200785, -6....  \n",
       "7304  [-0.009502503, -0.05450691, -0.015828261, -0.0...  \n",
       "\n",
       "[7305 rows x 8 columns]"
      ]
     },
     "execution_count": 80,
     "metadata": {},
     "output_type": "execute_result"
    }
   ],
   "source": [
    "import numpy as np\n",
    "\n",
    "# Helper function to move tensors to CPU and convert to NumPy\n",
    "def to_numpy(tensor):\n",
    "    return tensor.detach().cpu().numpy()\n",
    "\n",
    "# Generate embeddings and move them to CPU\n",
    "df_filtered['mpnet_embedding'] = [\n",
    "    to_numpy(embedding) for embedding in embed_with_mpnet(df_filtered['content'].tolist())\n",
    "]\n",
    "\n",
    "df_filtered['e5_embedding'] = [\n",
    "    to_numpy(embedding) for embedding in embed_with_e5(df_filtered['content'].tolist())\n",
    "]\n",
    "\n",
    "df_filtered\n"
   ]
  },
  {
   "cell_type": "code",
   "execution_count": 81,
   "metadata": {},
   "outputs": [
    {
     "name": "stdout",
     "output_type": "stream",
     "text": [
      "OpenAI embeddings generated successfully.\n"
     ]
    }
   ],
   "source": [
    "df_filtered['openai_embedding'] = embed_with_openai_batched(df_filtered['content'].tolist(), 1000)\n",
    "# np.save('openai_embeddings.npy', np.array(df_filtered['openai_embedding'].tolist()))\n",
    "print(\"OpenAI embeddings generated successfully.\")"
   ]
  },
  {
   "cell_type": "markdown",
   "metadata": {},
   "source": [
    "Implement Query Search Function"
   ]
  },
  {
   "cell_type": "code",
   "execution_count": 9,
   "metadata": {},
   "outputs": [],
   "source": [
    "# from sklearn.metrics.pairwise import cosine_similarity\n",
    "\n",
    "# def search_news(query, model_name):\n",
    "#     # Embed the query with the appropriate model\n",
    "#     if model_name == 'mpnet':\n",
    "#         query_embedding = embed_with_mpnet([query])[0]\n",
    "#         news_embeddings = np.load('mpnet_embeddings.npy')\n",
    "#     elif model_name == 'e5':\n",
    "#         query_embedding = embed_with_e5([query])[0]\n",
    "#         news_embeddings = np.load('e5_embeddings.npy')\n",
    "#     # elif model_name == 'openai':\n",
    "#     #     query_embedding = embed_with_openai([query])[0]\n",
    "#     #     news_embeddings = np.load('openai_embeddings.npy')\n",
    "    \n",
    "#     # Compute cosine similarity\n",
    "#     similarities = cosine_similarity([query_embedding], news_embeddings)[0]\n",
    "\n",
    "#     # Get the top 5 most similar news articles\n",
    "#     top_indices = similarities.argsort()[-5:][::-1]\n",
    "#     top_articles = df_embedded.iloc[top_indices]\n",
    "\n",
    "#     return top_articles[['guid', 'link', 'content']]\n"
   ]
  },
  {
   "cell_type": "code",
   "execution_count": 97,
   "metadata": {},
   "outputs": [],
   "source": [
    "from sklearn.metrics.pairwise import cosine_similarity\n",
    "import numpy as np\n",
    "\n",
    "def to_numpy(tensor):\n",
    "    \"\"\"Helper function to move a tensor to CPU and convert it to NumPy.\"\"\"\n",
    "    return tensor.detach().cpu().numpy()\n",
    "\n",
    "def search_news(query, model_name):\n",
    "    # Generate the query embedding based on the chosen model\n",
    "    if model_name == 'mpnet':\n",
    "        query_embedding = embed_with_mpnet([query])[0]  # Output is a tensor\n",
    "        query_embedding = to_numpy(query_embedding)     # Move to CPU and convert to NumPy\n",
    "        news_embeddings = np.vstack(df_filtered['mpnet_embedding'].values)\n",
    "    elif model_name == 'e5':\n",
    "        query_embedding = embed_with_e5([query])[0]     # Output is a tensor\n",
    "        query_embedding = to_numpy(query_embedding)     # Move to CPU and convert to NumPy\n",
    "        news_embeddings = np.vstack(df_filtered['e5_embedding'].values)\n",
    "    elif model_name == 'openai':\n",
    "        query_embedding = embed_with_openai_batched([query])[0]  # Already a NumPy array\n",
    "        news_embeddings = np.vstack(df_filtered['openai_embedding'].values)\n",
    "\n",
    "    # Compute cosine similarity\n",
    "    similarities = cosine_similarity([query_embedding], news_embeddings)[0]\n",
    "\n",
    "    # Get the top 5 most similar news articles\n",
    "    top_indices = similarities.argsort()[-5:][::-1]\n",
    "\n",
    "    # Extract the top articles and their corresponding similarities\n",
    "    top_articles = df_filtered.iloc[top_indices]\n",
    "    top_articles['cosine_similarity'] = similarities[top_indices]\n",
    "\n",
    "    return top_articles\n"
   ]
  },
  {
   "cell_type": "markdown",
   "metadata": {},
   "source": [
    "## Test Query Search"
   ]
  },
  {
   "cell_type": "code",
   "execution_count": 99,
   "metadata": {},
   "outputs": [],
   "source": [
    "def search_with_models(query: str):\n",
    "    models_names = ['mpnet', 'e5', 'openai']  # List of model names to use\n",
    "    results = {}\n",
    "\n",
    "    # Search across all models\n",
    "    for model_name in models_names:\n",
    "        results[model_name] = search_news(query, model_name)\n",
    "\n",
    "    # Display the results\n",
    "    for model_name, result_df in results.items():\n",
    "        print(f\"\\033[94m \\t Model: {model_name} \\033[0m\")\n",
    "        for _, row in result_df.iterrows():\n",
    "            print(f\"\\033[96m Similarity: {row['cosine_similarity']:.3f}::\\033[0m {row['content']}\")"
   ]
  },
  {
   "cell_type": "code",
   "execution_count": 100,
   "metadata": {},
   "outputs": [
    {
     "name": "stderr",
     "output_type": "stream",
     "text": [
      "/var/folders/wj/kwc01w0n6tz34xh5_07vvwcw0000gp/T/ipykernel_13123/244753065.py:30: SettingWithCopyWarning: \n",
      "A value is trying to be set on a copy of a slice from a DataFrame.\n",
      "Try using .loc[row_indexer,col_indexer] = value instead\n",
      "\n",
      "See the caveats in the documentation: https://pandas.pydata.org/pandas-docs/stable/user_guide/indexing.html#returning-a-view-versus-a-copy\n",
      "  top_articles['cosine_similarity'] = similarities[top_indices]\n",
      "/var/folders/wj/kwc01w0n6tz34xh5_07vvwcw0000gp/T/ipykernel_13123/244753065.py:30: SettingWithCopyWarning: \n",
      "A value is trying to be set on a copy of a slice from a DataFrame.\n",
      "Try using .loc[row_indexer,col_indexer] = value instead\n",
      "\n",
      "See the caveats in the documentation: https://pandas.pydata.org/pandas-docs/stable/user_guide/indexing.html#returning-a-view-versus-a-copy\n",
      "  top_articles['cosine_similarity'] = similarities[top_indices]\n"
     ]
    },
    {
     "name": "stdout",
     "output_type": "stream",
     "text": [
      "\u001b[94m \t Model: mpnet \u001b[0m\n",
      "\u001b[96m Similarity: 0.464::\u001b[0m Weighing up diet drugs Obesity jabs 'could reduce heart attack risk' says new study\n",
      "\u001b[96m Similarity: 0.413::\u001b[0m May horrified to learn about risks of diabetes disordered eating Better awareness and more NHS support are needed, the former prime minister says.\n",
      "\u001b[96m Similarity: 0.400::\u001b[0m Child obesity in pandemic could have lifelong effects, study says Researchers say children who gained weight in the pandemic could develop diseases later in life.\n",
      "\u001b[96m Similarity: 0.389::\u001b[0m Just five more ways Michael Mosley made us healthier Michael Mosley’s simple and accessible health hacks made him a household name.  Remember these?\n",
      "\u001b[96m Similarity: 0.380::\u001b[0m Post Christmas debt: Which bills should I pay first? What help and options are available to people struggling with debt repayments?\n",
      "\u001b[94m \t Model: e5 \u001b[0m\n",
      "\u001b[96m Similarity: 0.827::\u001b[0m Weighing up diet drugs Obesity jabs 'could reduce heart attack risk' says new study\n",
      "\u001b[96m Similarity: 0.801::\u001b[0m Are we being tricked by our fitness trackers? How accurate are fitness trackers?\n",
      "\u001b[96m Similarity: 0.796::\u001b[0m Doctors question science behind blood sugar diet trend Experts say there is \"no strong evidence\" the monitors, proven to be effective in managing diabetes, can also help people without the condition.\n",
      "\u001b[96m Similarity: 0.792::\u001b[0m How do I register to vote? Here’s what you need to know about how you register to vote and when.\n",
      "\u001b[96m Similarity: 0.790::\u001b[0m How to drive in icy weather Tips on what to carry in your car, and how to drive in snow and icy weather.\n",
      "\u001b[94m \t Model: openai \u001b[0m\n",
      "\u001b[96m Similarity: 0.427::\u001b[0m Weighing up diet drugs Obesity jabs 'could reduce heart attack risk' says new study\n",
      "\u001b[96m Similarity: 0.365::\u001b[0m Doctors question science behind blood sugar diet trend Experts say there is \"no strong evidence\" the monitors, proven to be effective in managing diabetes, can also help people without the condition.\n",
      "\u001b[96m Similarity: 0.344::\u001b[0m May horrified to learn about risks of diabetes disordered eating Better awareness and more NHS support are needed, the former prime minister says.\n",
      "\u001b[96m Similarity: 0.312::\u001b[0m Child obesity in pandemic could have lifelong effects, study says Researchers say children who gained weight in the pandemic could develop diseases later in life.\n",
      "\u001b[96m Similarity: 0.294::\u001b[0m Why fat Labradors can blame their genes Scientists used the 'sausage in a box' test to find out that dogs can be a \"hard-wired\" for obesity.\n"
     ]
    },
    {
     "name": "stderr",
     "output_type": "stream",
     "text": [
      "/var/folders/wj/kwc01w0n6tz34xh5_07vvwcw0000gp/T/ipykernel_13123/244753065.py:30: SettingWithCopyWarning: \n",
      "A value is trying to be set on a copy of a slice from a DataFrame.\n",
      "Try using .loc[row_indexer,col_indexer] = value instead\n",
      "\n",
      "See the caveats in the documentation: https://pandas.pydata.org/pandas-docs/stable/user_guide/indexing.html#returning-a-view-versus-a-copy\n",
      "  top_articles['cosine_similarity'] = similarities[top_indices]\n"
     ]
    }
   ],
   "source": [
    "query = \"Recommended diet and exercise habits for managing obesity\"\n",
    "search_with_models(query)"
   ]
  },
  {
   "cell_type": "code",
   "execution_count": 101,
   "metadata": {},
   "outputs": [
    {
     "name": "stderr",
     "output_type": "stream",
     "text": [
      "/var/folders/wj/kwc01w0n6tz34xh5_07vvwcw0000gp/T/ipykernel_13123/244753065.py:30: SettingWithCopyWarning: \n",
      "A value is trying to be set on a copy of a slice from a DataFrame.\n",
      "Try using .loc[row_indexer,col_indexer] = value instead\n",
      "\n",
      "See the caveats in the documentation: https://pandas.pydata.org/pandas-docs/stable/user_guide/indexing.html#returning-a-view-versus-a-copy\n",
      "  top_articles['cosine_similarity'] = similarities[top_indices]\n",
      "/var/folders/wj/kwc01w0n6tz34xh5_07vvwcw0000gp/T/ipykernel_13123/244753065.py:30: SettingWithCopyWarning: \n",
      "A value is trying to be set on a copy of a slice from a DataFrame.\n",
      "Try using .loc[row_indexer,col_indexer] = value instead\n",
      "\n",
      "See the caveats in the documentation: https://pandas.pydata.org/pandas-docs/stable/user_guide/indexing.html#returning-a-view-versus-a-copy\n",
      "  top_articles['cosine_similarity'] = similarities[top_indices]\n"
     ]
    },
    {
     "name": "stdout",
     "output_type": "stream",
     "text": [
      "\u001b[94m \t Model: mpnet \u001b[0m\n",
      "\u001b[96m Similarity: 0.624::\u001b[0m Tame toxic algorithms to protect children, big tech told Big tech companies will have to make changes to their algorithms to comply with new online safety laws.\n",
      "\u001b[96m Similarity: 0.600::\u001b[0m Tech firms told to hide 'toxic' content from children Social media firms like Instagram and TikTok will have to make changes to comply with new online safety laws.\n",
      "\u001b[96m Similarity: 0.571::\u001b[0m Bereaved parents win online harm battle Tech firms will have to hand over personal data of children whose death may be related to online harm.\n",
      "\u001b[96m Similarity: 0.541::\u001b[0m No More Phones 4u School Kids Schools in England given new guidance on stopping mobile phone use\n",
      "\u001b[96m Similarity: 0.539::\u001b[0m Meta tool to block nude images in teens' private messages The move is designed to help stop teenagers receiving inappropriate pictures, even in encrypted chats\n",
      "\u001b[94m \t Model: e5 \u001b[0m\n",
      "\u001b[96m Similarity: 0.819::\u001b[0m Bereaved parents win online harm battle Tech firms will have to hand over personal data of children whose death may be related to online harm.\n",
      "\u001b[96m Similarity: 0.813::\u001b[0m Tame toxic algorithms to protect children, big tech told Big tech companies will have to make changes to their algorithms to comply with new online safety laws.\n",
      "\u001b[96m Similarity: 0.807::\u001b[0m Brianna Ghey's mother and Molly Russell's father join forces to combat online harm Esther Ghey and Ian Russell want better protection for teenagers on social media.\n",
      "\u001b[96m Similarity: 0.803::\u001b[0m Tech firms told to hide 'toxic' content from children Social media firms like Instagram and TikTok will have to make changes to comply with new online safety laws.\n",
      "\u001b[96m Similarity: 0.796::\u001b[0m Rochdale abuse scandal: Inside the team fighting child sexual exploitation How are police and child protection experts trying to prevent a repeat of the Rochdale abuse scandal?\n",
      "\u001b[94m \t Model: openai \u001b[0m\n",
      "\u001b[96m Similarity: 0.528::\u001b[0m Tame toxic algorithms to protect children, big tech told Big tech companies will have to make changes to their algorithms to comply with new online safety laws.\n",
      "\u001b[96m Similarity: 0.477::\u001b[0m Tech firms told to hide 'toxic' content from children Social media firms like Instagram and TikTok will have to make changes to comply with new online safety laws.\n",
      "\u001b[96m Similarity: 0.477::\u001b[0m Bereaved parents win online harm battle Tech firms will have to hand over personal data of children whose death may be related to online harm.\n",
      "\u001b[96m Similarity: 0.423::\u001b[0m Brianna Ghey's mother and Molly Russell's father join forces to combat online harm Esther Ghey and Ian Russell want better protection for teenagers on social media.\n",
      "\u001b[96m Similarity: 0.416::\u001b[0m Could Ofcom ban social media for under-18s? A quick, simple guide to the new social media rules proposed by Ofcom\n"
     ]
    },
    {
     "name": "stderr",
     "output_type": "stream",
     "text": [
      "/var/folders/wj/kwc01w0n6tz34xh5_07vvwcw0000gp/T/ipykernel_13123/244753065.py:30: SettingWithCopyWarning: \n",
      "A value is trying to be set on a copy of a slice from a DataFrame.\n",
      "Try using .loc[row_indexer,col_indexer] = value instead\n",
      "\n",
      "See the caveats in the documentation: https://pandas.pydata.org/pandas-docs/stable/user_guide/indexing.html#returning-a-view-versus-a-copy\n",
      "  top_articles['cosine_similarity'] = similarities[top_indices]\n"
     ]
    }
   ],
   "source": [
    "query = \"Keep your children safe on the internet\"\n",
    "search_with_models(query)"
   ]
  },
  {
   "cell_type": "code",
   "execution_count": 102,
   "metadata": {},
   "outputs": [
    {
     "name": "stderr",
     "output_type": "stream",
     "text": [
      "/var/folders/wj/kwc01w0n6tz34xh5_07vvwcw0000gp/T/ipykernel_13123/244753065.py:30: SettingWithCopyWarning: \n",
      "A value is trying to be set on a copy of a slice from a DataFrame.\n",
      "Try using .loc[row_indexer,col_indexer] = value instead\n",
      "\n",
      "See the caveats in the documentation: https://pandas.pydata.org/pandas-docs/stable/user_guide/indexing.html#returning-a-view-versus-a-copy\n",
      "  top_articles['cosine_similarity'] = similarities[top_indices]\n",
      "/var/folders/wj/kwc01w0n6tz34xh5_07vvwcw0000gp/T/ipykernel_13123/244753065.py:30: SettingWithCopyWarning: \n",
      "A value is trying to be set on a copy of a slice from a DataFrame.\n",
      "Try using .loc[row_indexer,col_indexer] = value instead\n",
      "\n",
      "See the caveats in the documentation: https://pandas.pydata.org/pandas-docs/stable/user_guide/indexing.html#returning-a-view-versus-a-copy\n",
      "  top_articles['cosine_similarity'] = similarities[top_indices]\n"
     ]
    },
    {
     "name": "stdout",
     "output_type": "stream",
     "text": [
      "\u001b[94m \t Model: mpnet \u001b[0m\n",
      "\u001b[96m Similarity: 0.587::\u001b[0m Urgent need for terrorism AI laws, warns think tank The government should 'urgently consider' AI-specific legislation a think-tank says.\n",
      "\u001b[96m Similarity: 0.581::\u001b[0m How AI is being used to prevent illegal fishing Illegal fishing remains a huge global problem, but AI is now being used to tackle the issue.\n",
      "\u001b[96m Similarity: 0.579::\u001b[0m AI could 'supercharge' election disinformation, US tells the BBC US Deputy Attorney General Lisa Monaco says the US wants tougher sentences for crimes involving AI.\n",
      "\u001b[96m Similarity: 0.563::\u001b[0m Concern rises over AI in adult entertainment AI in adult entertainment could have negative effects on society and individuals, experts say.\n",
      "\u001b[96m Similarity: 0.555::\u001b[0m AI and humanity’s future: chilling or thrilling? Amol & Nick take on Stephen Fry’s challenge & look at what the future of AI might entail.\n",
      "\u001b[94m \t Model: e5 \u001b[0m\n",
      "\u001b[96m Similarity: 0.806::\u001b[0m AI and humanity’s future: chilling or thrilling? Amol & Nick take on Stephen Fry’s challenge & look at what the future of AI might entail.\n",
      "\u001b[96m Similarity: 0.805::\u001b[0m CES 2024: AI pillows and toothbrushes - is it all getting a bit silly? Companies are clamouring to present their products as AI-powered, but are their claims justified?\n",
      "\u001b[96m Similarity: 0.804::\u001b[0m How AI is being used to prevent illegal fishing Illegal fishing remains a huge global problem, but AI is now being used to tackle the issue.\n",
      "\u001b[96m Similarity: 0.803::\u001b[0m How AI is helping to prevent future power cuts Artificial intelligence software is being used to predict electricity demand and supply.\n",
      "\u001b[96m Similarity: 0.801::\u001b[0m AI could 'supercharge' election disinformation, US tells the BBC US Deputy Attorney General Lisa Monaco says the US wants tougher sentences for crimes involving AI.\n",
      "\u001b[94m \t Model: openai \u001b[0m\n",
      "\u001b[96m Similarity: 0.569::\u001b[0m AI and humanity’s future: chilling or thrilling? Amol & Nick take on Stephen Fry’s challenge & look at what the future of AI might entail.\n",
      "\u001b[96m Similarity: 0.528::\u001b[0m Concern rises over AI in adult entertainment AI in adult entertainment could have negative effects on society and individuals, experts say.\n",
      "\u001b[96m Similarity: 0.520::\u001b[0m AI could 'supercharge' election disinformation, US tells the BBC US Deputy Attorney General Lisa Monaco says the US wants tougher sentences for crimes involving AI.\n",
      "\u001b[96m Similarity: 0.520::\u001b[0m CES 2024: AI pillows and toothbrushes - is it all getting a bit silly? Companies are clamouring to present their products as AI-powered, but are their claims justified?\n",
      "\u001b[96m Similarity: 0.487::\u001b[0m What happens when you think AI is lying about you? BBC Tech Editor Zoe Kleinman tried to challenge the output of a chatbot - but all was not as it seemed.\n"
     ]
    },
    {
     "name": "stderr",
     "output_type": "stream",
     "text": [
      "/var/folders/wj/kwc01w0n6tz34xh5_07vvwcw0000gp/T/ipykernel_13123/244753065.py:30: SettingWithCopyWarning: \n",
      "A value is trying to be set on a copy of a slice from a DataFrame.\n",
      "Try using .loc[row_indexer,col_indexer] = value instead\n",
      "\n",
      "See the caveats in the documentation: https://pandas.pydata.org/pandas-docs/stable/user_guide/indexing.html#returning-a-view-versus-a-copy\n",
      "  top_articles['cosine_similarity'] = similarities[top_indices]\n"
     ]
    }
   ],
   "source": [
    "search_with_models(\"What are the lates news about AI ethics?\")"
   ]
  },
  {
   "cell_type": "code",
   "execution_count": 105,
   "metadata": {},
   "outputs": [
    {
     "name": "stderr",
     "output_type": "stream",
     "text": [
      "/var/folders/wj/kwc01w0n6tz34xh5_07vvwcw0000gp/T/ipykernel_13123/244753065.py:30: SettingWithCopyWarning: \n",
      "A value is trying to be set on a copy of a slice from a DataFrame.\n",
      "Try using .loc[row_indexer,col_indexer] = value instead\n",
      "\n",
      "See the caveats in the documentation: https://pandas.pydata.org/pandas-docs/stable/user_guide/indexing.html#returning-a-view-versus-a-copy\n",
      "  top_articles['cosine_similarity'] = similarities[top_indices]\n",
      "/var/folders/wj/kwc01w0n6tz34xh5_07vvwcw0000gp/T/ipykernel_13123/244753065.py:30: SettingWithCopyWarning: \n",
      "A value is trying to be set on a copy of a slice from a DataFrame.\n",
      "Try using .loc[row_indexer,col_indexer] = value instead\n",
      "\n",
      "See the caveats in the documentation: https://pandas.pydata.org/pandas-docs/stable/user_guide/indexing.html#returning-a-view-versus-a-copy\n",
      "  top_articles['cosine_similarity'] = similarities[top_indices]\n"
     ]
    },
    {
     "name": "stdout",
     "output_type": "stream",
     "text": [
      "\u001b[94m \t Model: mpnet \u001b[0m\n",
      "\u001b[96m Similarity: 0.714::\u001b[0m Why have Israel and Iran attacked each other? The long-running shadow war between the two countries has come into the open.\n",
      "\u001b[96m Similarity: 0.687::\u001b[0m Israel-Palestinian bitterness deepened by Hamas attack and war Both Israelis and Palestinians believe the world does not understand their pain and suffering.\n",
      "\u001b[96m Similarity: 0.660::\u001b[0m Israel 'vows revenge' as it 'weighs up response' The fallout from Iran's unprecedented aerial attack and fears of regional escalation dominates the papers.\n",
      "\u001b[96m Similarity: 0.653::\u001b[0m Bowen: As Israel debates Iran attack response, can US and allies stop slide into all-out war? World leaders are scrambling to prevent the Middle East entering a damaging wider conflict.\n",
      "\u001b[96m Similarity: 0.641::\u001b[0m Jeremy Bowen: The Israel-Gaza war is at a crossroads Will the killing of foreign aid workers exhaust the patience of Israel's allies?\n",
      "\u001b[94m \t Model: e5 \u001b[0m\n",
      "\u001b[96m Similarity: 0.835::\u001b[0m Could the Israel-Gaza war cost Biden the election? The President’s said he’s 'outraged' by aid worker killings\n",
      "\u001b[96m Similarity: 0.833::\u001b[0m Israel-Palestinian bitterness deepened by Hamas attack and war Both Israelis and Palestinians believe the world does not understand their pain and suffering.\n",
      "\u001b[96m Similarity: 0.832::\u001b[0m Chris Mason: How Gaza conflict is contorting UK politics The Conservatives, Labour, and Parliament itself are finding themselves torn by the furious arguments provoked by the Israel-Gaza war.\n",
      "\u001b[96m Similarity: 0.831::\u001b[0m Jeremy Bowen: What ICC arrest warrants mean for Israel and Hamas The Israeli and Hamas leaders are suspected of committing war crimes during the continuing war in Gaza.\n",
      "\u001b[96m Similarity: 0.821::\u001b[0m Why have Israel and Iran attacked each other? The long-running shadow war between the two countries has come into the open.\n",
      "\u001b[94m \t Model: openai \u001b[0m\n",
      "\u001b[96m Similarity: 0.569::\u001b[0m Israel-Palestinian bitterness deepened by Hamas attack and war Both Israelis and Palestinians believe the world does not understand their pain and suffering.\n",
      "\u001b[96m Similarity: 0.554::\u001b[0m No let-up for Gazans while world focused on Iran attacks Fighting continues in Gaza, where a humanitarian crisis is overshadowed by the wider regional conflict.\n",
      "\u001b[96m Similarity: 0.551::\u001b[0m Chris Mason: How Gaza conflict is contorting UK politics The Conservatives, Labour, and Parliament itself are finding themselves torn by the furious arguments provoked by the Israel-Gaza war.\n",
      "\u001b[96m Similarity: 0.546::\u001b[0m Jeremy Bowen: The Israel-Gaza war is at a crossroads Will the killing of foreign aid workers exhaust the patience of Israel's allies?\n",
      "\u001b[96m Similarity: 0.542::\u001b[0m Was this the week Israel and Hezbollah drew closer to war? Israel may be fighting in Gaza, but fear remains a war with Hezbollah could turn the conflict into something even deadlier.\n"
     ]
    },
    {
     "name": "stderr",
     "output_type": "stream",
     "text": [
      "/var/folders/wj/kwc01w0n6tz34xh5_07vvwcw0000gp/T/ipykernel_13123/244753065.py:30: SettingWithCopyWarning: \n",
      "A value is trying to be set on a copy of a slice from a DataFrame.\n",
      "Try using .loc[row_indexer,col_indexer] = value instead\n",
      "\n",
      "See the caveats in the documentation: https://pandas.pydata.org/pandas-docs/stable/user_guide/indexing.html#returning-a-view-versus-a-copy\n",
      "  top_articles['cosine_similarity'] = similarities[top_indices]\n"
     ]
    }
   ],
   "source": [
    "search_with_models(\"How the war between Israel and Hamas is affecting global politics?\")"
   ]
  },
  {
   "cell_type": "code",
   "execution_count": 106,
   "metadata": {},
   "outputs": [
    {
     "name": "stderr",
     "output_type": "stream",
     "text": [
      "/var/folders/wj/kwc01w0n6tz34xh5_07vvwcw0000gp/T/ipykernel_13123/244753065.py:30: SettingWithCopyWarning: \n",
      "A value is trying to be set on a copy of a slice from a DataFrame.\n",
      "Try using .loc[row_indexer,col_indexer] = value instead\n",
      "\n",
      "See the caveats in the documentation: https://pandas.pydata.org/pandas-docs/stable/user_guide/indexing.html#returning-a-view-versus-a-copy\n",
      "  top_articles['cosine_similarity'] = similarities[top_indices]\n",
      "/var/folders/wj/kwc01w0n6tz34xh5_07vvwcw0000gp/T/ipykernel_13123/244753065.py:30: SettingWithCopyWarning: \n",
      "A value is trying to be set on a copy of a slice from a DataFrame.\n",
      "Try using .loc[row_indexer,col_indexer] = value instead\n",
      "\n",
      "See the caveats in the documentation: https://pandas.pydata.org/pandas-docs/stable/user_guide/indexing.html#returning-a-view-versus-a-copy\n",
      "  top_articles['cosine_similarity'] = similarities[top_indices]\n"
     ]
    },
    {
     "name": "stdout",
     "output_type": "stream",
     "text": [
      "\u001b[94m \t Model: mpnet \u001b[0m\n",
      "\u001b[96m Similarity: 0.557::\u001b[0m In pictures: London Fashion Week's big moments A surprise appearance from the supermodel topped off the 40th anniversary celebrations.\n",
      "\u001b[96m Similarity: 0.555::\u001b[0m Champagne, caffeine and chaos: Fashion week descends on Paris Louis Vuitton, Dior, Hermes, Rick Owens, Loewe, Kenzo and Dries Van Noten all introduce new collections in Paris. \n",
      "\u001b[96m Similarity: 0.520::\u001b[0m The outfits: Stars turn on the style for the Oscars The fashion is as important as the films at the glittering Hollywood award ceremony.\n",
      "\u001b[96m Similarity: 0.519::\u001b[0m How Zendaya perfected 'method dressing' Film stars have made fancy dress fashionable in their recent red carpet looks.\n",
      "\u001b[96m Similarity: 0.508::\u001b[0m London Fashion Week: Celebrating 40 years of catwalks As London Fashion Week marks four decades of creativity, we look back at some memorable moments.\n",
      "\u001b[94m \t Model: e5 \u001b[0m\n",
      "\u001b[96m Similarity: 0.808::\u001b[0m How Zendaya perfected 'method dressing' Film stars have made fancy dress fashionable in their recent red carpet looks.\n",
      "\u001b[96m Similarity: 0.788::\u001b[0m Champagne, caffeine and chaos: Fashion week descends on Paris Louis Vuitton, Dior, Hermes, Rick Owens, Loewe, Kenzo and Dries Van Noten all introduce new collections in Paris. \n",
      "\u001b[96m Similarity: 0.787::\u001b[0m Egg Freezing and Me Inside the world of one of the fastest growing fertility treatments in the UK.\n",
      "\u001b[96m Similarity: 0.786::\u001b[0m Kuenssberg: Are the politics of climate change going out of fashion? Debate is shifting to cost concerns as net zero targets fast approach, says Laura Kuenssberg.\n",
      "\u001b[96m Similarity: 0.783::\u001b[0m Stars take over Paris for sporty Vogue fashion show Supermodels, singers and sports star took to the runway in Paris as Vogue turned a square into a runway.\n",
      "\u001b[94m \t Model: openai \u001b[0m\n",
      "\u001b[96m Similarity: 0.419::\u001b[0m Champagne, caffeine and chaos: Fashion week descends on Paris Louis Vuitton, Dior, Hermes, Rick Owens, Loewe, Kenzo and Dries Van Noten all introduce new collections in Paris. \n",
      "\u001b[96m Similarity: 0.397::\u001b[0m The outfits: Stars turn on the style for the Oscars The fashion is as important as the films at the glittering Hollywood award ceremony.\n",
      "\u001b[96m Similarity: 0.395::\u001b[0m London Fashion Week: Celebrating 40 years of catwalks As London Fashion Week marks four decades of creativity, we look back at some memorable moments.\n",
      "\u001b[96m Similarity: 0.386::\u001b[0m In pictures: London Fashion Week's big moments A surprise appearance from the supermodel topped off the 40th anniversary celebrations.\n",
      "\u001b[96m Similarity: 0.381::\u001b[0m Style in the spotlight for Ladies Day at Aintree It is all about the fashion as the second day of the Grand National Festival takes place at Aintree.\n"
     ]
    },
    {
     "name": "stderr",
     "output_type": "stream",
     "text": [
      "/var/folders/wj/kwc01w0n6tz34xh5_07vvwcw0000gp/T/ipykernel_13123/244753065.py:30: SettingWithCopyWarning: \n",
      "A value is trying to be set on a copy of a slice from a DataFrame.\n",
      "Try using .loc[row_indexer,col_indexer] = value instead\n",
      "\n",
      "See the caveats in the documentation: https://pandas.pydata.org/pandas-docs/stable/user_guide/indexing.html#returning-a-view-versus-a-copy\n",
      "  top_articles['cosine_similarity'] = similarities[top_indices]\n"
     ]
    }
   ],
   "source": [
    "search_with_models(\"Latest trends in the fashion industry\")"
   ]
  },
  {
   "cell_type": "markdown",
   "metadata": {},
   "source": [
    "## Open-AI model wins, Now lets find the right treshold"
   ]
  },
  {
   "cell_type": "code",
   "execution_count": 118,
   "metadata": {},
   "outputs": [],
   "source": [
    "def search_open_ai_news(query):\n",
    "    # Generate the query embedding based on the chosen model\n",
    "    query_embedding = embed_with_openai_batched([query])[0] \n",
    "    news_embeddings = np.vstack(df_filtered['openai_embedding'].values)\n",
    "\n",
    "    # Compute cosine similarity\n",
    "    similarities = cosine_similarity([query_embedding], news_embeddings)[0]\n",
    "\n",
    "    # Get the top 5 most similar news articles\n",
    "    top_indices = similarities.argsort()[-10:][::-1]\n",
    "\n",
    "    # Extract the top articles and their corresponding similarities\n",
    "    top_articles = df_filtered.iloc[top_indices]\n",
    "    top_articles['cosine_similarity'] = similarities[top_indices]\n",
    "\n",
    "    # Display the results\n",
    "    print(f\"\\033[94mQuery: {query} \\033[0m\")\n",
    "    for _, row in top_articles.iterrows():\n",
    "        print(f\"\\033[96m (Similarity: {row['cosine_similarity']:.3f})\\033[0m RSS news content: {row['content']}\")\n"
   ]
  },
  {
   "cell_type": "code",
   "execution_count": 119,
   "metadata": {},
   "outputs": [
    {
     "name": "stdout",
     "output_type": "stream",
     "text": [
      "\u001b[94mQuery: Keep your children safe on the internet \u001b[0m\n",
      "\u001b[96m (Similarity: 0.528)\u001b[0m RSS news content: Tame toxic algorithms to protect children, big tech told Big tech companies will have to make changes to their algorithms to comply with new online safety laws.\n",
      "\u001b[96m (Similarity: 0.477)\u001b[0m RSS news content: Tech firms told to hide 'toxic' content from children Social media firms like Instagram and TikTok will have to make changes to comply with new online safety laws.\n",
      "\u001b[96m (Similarity: 0.477)\u001b[0m RSS news content: Bereaved parents win online harm battle Tech firms will have to hand over personal data of children whose death may be related to online harm.\n",
      "\u001b[96m (Similarity: 0.423)\u001b[0m RSS news content: Brianna Ghey's mother and Molly Russell's father join forces to combat online harm Esther Ghey and Ian Russell want better protection for teenagers on social media.\n",
      "\u001b[96m (Similarity: 0.416)\u001b[0m RSS news content: Could Ofcom ban social media for under-18s? A quick, simple guide to the new social media rules proposed by Ofcom\n",
      "\u001b[96m (Similarity: 0.413)\u001b[0m RSS news content: Pupils get rare alert over dangers of sextortion The National Crime Agency says young boys are increasingly being targeted by gangs.\n",
      "\u001b[96m (Similarity: 0.402)\u001b[0m RSS news content: Warning over children using anti-ageing skincare products Dermatologists say products with ingredients potentially harmful to children are growing popular.\n",
      "\u001b[96m (Similarity: 0.392)\u001b[0m RSS news content: Meta boss Mark Zuckerberg apologises to families in fiery US Senate hearing Bosses from five of the largest social media firms were grilled about how they are protecting children.\n",
      "\u001b[96m (Similarity: 0.391)\u001b[0m RSS news content: Meta tool to block nude images in teens' private messages The move is designed to help stop teenagers receiving inappropriate pictures, even in encrypted chats\n",
      "\u001b[96m (Similarity: 0.387)\u001b[0m RSS news content: Union calls for inquiry to curb sexism in schools Teachers fear sexism is on the rise in schools because of harmful content on children's phones.\n"
     ]
    },
    {
     "name": "stderr",
     "output_type": "stream",
     "text": [
      "/var/folders/wj/kwc01w0n6tz34xh5_07vvwcw0000gp/T/ipykernel_13123/960460263.py:14: SettingWithCopyWarning: \n",
      "A value is trying to be set on a copy of a slice from a DataFrame.\n",
      "Try using .loc[row_indexer,col_indexer] = value instead\n",
      "\n",
      "See the caveats in the documentation: https://pandas.pydata.org/pandas-docs/stable/user_guide/indexing.html#returning-a-view-versus-a-copy\n",
      "  top_articles['cosine_similarity'] = similarities[top_indices]\n"
     ]
    }
   ],
   "source": [
    "search_open_ai_news(\"Keep your children safe on the internet\")"
   ]
  },
  {
   "cell_type": "code",
   "execution_count": 120,
   "metadata": {},
   "outputs": [
    {
     "name": "stdout",
     "output_type": "stream",
     "text": [
      "\u001b[94mQuery: What are the lates news about AI ethics? \u001b[0m\n",
      "\u001b[96m (Similarity: 0.569)\u001b[0m RSS news content: AI and humanity’s future: chilling or thrilling? Amol & Nick take on Stephen Fry’s challenge & look at what the future of AI might entail.\n",
      "\u001b[96m (Similarity: 0.528)\u001b[0m RSS news content: Concern rises over AI in adult entertainment AI in adult entertainment could have negative effects on society and individuals, experts say.\n",
      "\u001b[96m (Similarity: 0.520)\u001b[0m RSS news content: AI could 'supercharge' election disinformation, US tells the BBC US Deputy Attorney General Lisa Monaco says the US wants tougher sentences for crimes involving AI.\n",
      "\u001b[96m (Similarity: 0.520)\u001b[0m RSS news content: CES 2024: AI pillows and toothbrushes - is it all getting a bit silly? Companies are clamouring to present their products as AI-powered, but are their claims justified?\n",
      "\u001b[96m (Similarity: 0.487)\u001b[0m RSS news content: What happens when you think AI is lying about you? BBC Tech Editor Zoe Kleinman tried to challenge the output of a chatbot - but all was not as it seemed.\n",
      "\u001b[96m (Similarity: 0.484)\u001b[0m RSS news content: Urgent need for terrorism AI laws, warns think tank The government should 'urgently consider' AI-specific legislation a think-tank says.\n",
      "\u001b[96m (Similarity: 0.447)\u001b[0m RSS news content: Scarlett Johansson's AI row has echoes of Silicon Valley's bad old days A clash with the actor has echoes of the macho tech giants of the past, says Zoe Kleinman.\n",
      "\u001b[96m (Similarity: 0.440)\u001b[0m RSS news content: How AI is being used to prevent illegal fishing Illegal fishing remains a huge global problem, but AI is now being used to tackle the issue.\n",
      "\u001b[96m (Similarity: 0.433)\u001b[0m RSS news content: AI will not be the destroyer of jobs - Bank chief Bank of England governor says AI has \"great potential\" as Lords report urges UK to embrace AI.\n",
      "\u001b[96m (Similarity: 0.427)\u001b[0m RSS news content: Apple brings ChatGPT to iPhones in AI overhaul The company has been slower to roll out generative AI features than rivals including Google and Microsoft.\n"
     ]
    },
    {
     "name": "stderr",
     "output_type": "stream",
     "text": [
      "/var/folders/wj/kwc01w0n6tz34xh5_07vvwcw0000gp/T/ipykernel_13123/960460263.py:14: SettingWithCopyWarning: \n",
      "A value is trying to be set on a copy of a slice from a DataFrame.\n",
      "Try using .loc[row_indexer,col_indexer] = value instead\n",
      "\n",
      "See the caveats in the documentation: https://pandas.pydata.org/pandas-docs/stable/user_guide/indexing.html#returning-a-view-versus-a-copy\n",
      "  top_articles['cosine_similarity'] = similarities[top_indices]\n"
     ]
    }
   ],
   "source": [
    "search_open_ai_news(\"What are the lates news about AI ethics?\")"
   ]
  },
  {
   "cell_type": "code",
   "execution_count": 121,
   "metadata": {},
   "outputs": [
    {
     "name": "stderr",
     "output_type": "stream",
     "text": [
      "/var/folders/wj/kwc01w0n6tz34xh5_07vvwcw0000gp/T/ipykernel_13123/960460263.py:14: SettingWithCopyWarning: \n",
      "A value is trying to be set on a copy of a slice from a DataFrame.\n",
      "Try using .loc[row_indexer,col_indexer] = value instead\n",
      "\n",
      "See the caveats in the documentation: https://pandas.pydata.org/pandas-docs/stable/user_guide/indexing.html#returning-a-view-versus-a-copy\n",
      "  top_articles['cosine_similarity'] = similarities[top_indices]\n"
     ]
    },
    {
     "name": "stdout",
     "output_type": "stream",
     "text": [
      "\u001b[94mQuery: Recommended diet and exercise habits for managing obesity \u001b[0m\n",
      "\u001b[96m (Similarity: 0.427)\u001b[0m RSS news content: Weighing up diet drugs Obesity jabs 'could reduce heart attack risk' says new study\n",
      "\u001b[96m (Similarity: 0.365)\u001b[0m RSS news content: Doctors question science behind blood sugar diet trend Experts say there is \"no strong evidence\" the monitors, proven to be effective in managing diabetes, can also help people without the condition.\n",
      "\u001b[96m (Similarity: 0.344)\u001b[0m RSS news content: May horrified to learn about risks of diabetes disordered eating Better awareness and more NHS support are needed, the former prime minister says.\n",
      "\u001b[96m (Similarity: 0.312)\u001b[0m RSS news content: Child obesity in pandemic could have lifelong effects, study says Researchers say children who gained weight in the pandemic could develop diseases later in life.\n",
      "\u001b[96m (Similarity: 0.294)\u001b[0m RSS news content: Why fat Labradors can blame their genes Scientists used the 'sausage in a box' test to find out that dogs can be a \"hard-wired\" for obesity.\n",
      "\u001b[96m (Similarity: 0.282)\u001b[0m RSS news content: Just five more ways Michael Mosley made us healthier Michael Mosley’s simple and accessible health hacks made him a household name.  Remember these?\n",
      "\u001b[96m (Similarity: 0.274)\u001b[0m RSS news content: Global alert issued over fake Ozempic drugs - WHO The World Health Organization says fake drugs, used for type-2 diabetes and weight loss, are a danger to health.\n",
      "\u001b[96m (Similarity: 0.262)\u001b[0m RSS news content: Katie Price low calorie diet advert banned The social media post irresponsibly promoted a diet that fell below 800 calories a day, a watchdog says.\n",
      "\u001b[96m (Similarity: 0.249)\u001b[0m RSS news content: Are we being tricked by our fitness trackers? How accurate are fitness trackers?\n",
      "\u001b[96m (Similarity: 0.244)\u001b[0m RSS news content: Wegovy, the 'Viagra' of weight-loss drugs flying off the shelves How did Danish weight-loss treatment Wegovy become a global sales sensation?\n"
     ]
    },
    {
     "name": "stderr",
     "output_type": "stream",
     "text": [
      "/var/folders/wj/kwc01w0n6tz34xh5_07vvwcw0000gp/T/ipykernel_13123/960460263.py:14: SettingWithCopyWarning: \n",
      "A value is trying to be set on a copy of a slice from a DataFrame.\n",
      "Try using .loc[row_indexer,col_indexer] = value instead\n",
      "\n",
      "See the caveats in the documentation: https://pandas.pydata.org/pandas-docs/stable/user_guide/indexing.html#returning-a-view-versus-a-copy\n",
      "  top_articles['cosine_similarity'] = similarities[top_indices]\n"
     ]
    },
    {
     "name": "stdout",
     "output_type": "stream",
     "text": [
      "\u001b[94mQuery: How the war between Israel and Hamas is affecting global politics? \u001b[0m\n",
      "\u001b[96m (Similarity: 0.569)\u001b[0m RSS news content: Israel-Palestinian bitterness deepened by Hamas attack and war Both Israelis and Palestinians believe the world does not understand their pain and suffering.\n",
      "\u001b[96m (Similarity: 0.554)\u001b[0m RSS news content: No let-up for Gazans while world focused on Iran attacks Fighting continues in Gaza, where a humanitarian crisis is overshadowed by the wider regional conflict.\n",
      "\u001b[96m (Similarity: 0.551)\u001b[0m RSS news content: Chris Mason: How Gaza conflict is contorting UK politics The Conservatives, Labour, and Parliament itself are finding themselves torn by the furious arguments provoked by the Israel-Gaza war.\n",
      "\u001b[96m (Similarity: 0.546)\u001b[0m RSS news content: Jeremy Bowen: The Israel-Gaza war is at a crossroads Will the killing of foreign aid workers exhaust the patience of Israel's allies?\n",
      "\u001b[96m (Similarity: 0.542)\u001b[0m RSS news content: Was this the week Israel and Hezbollah drew closer to war? Israel may be fighting in Gaza, but fear remains a war with Hezbollah could turn the conflict into something even deadlier.\n",
      "\u001b[96m (Similarity: 0.518)\u001b[0m RSS news content: Israel-Gaza war: Latest ceasefire talks not very promising - Qatar Israel's PM Benjamin Netanyahu vows to carry on the war against Hamas regardless of international pressure.\n",
      "\u001b[96m (Similarity: 0.514)\u001b[0m RSS news content: Lyse Doucet: Israel's Rafah deadline raises stakes as Ramadan nears Indirect talks between Israel and Hamas have not brought the war to an end - and a pivotal few weeks looms.\n",
      "\u001b[96m (Similarity: 0.509)\u001b[0m RSS news content: Strikes on Houthi targets in Yemen show war in Gaza has already spread War spreading in the Middle East is not just a risk - it has already happened, writes the BBC's international editor.\n",
      "\u001b[96m (Similarity: 0.509)\u001b[0m RSS news content: Jeremy Bowen: What ICC arrest warrants mean for Israel and Hamas The Israeli and Hamas leaders are suspected of committing war crimes during the continuing war in Gaza.\n",
      "\u001b[96m (Similarity: 0.506)\u001b[0m RSS news content: Gaza war weighs heavily on Israel's memorial day The country pauses united in grief, as questions grow about the results of Israel's war.\n",
      "\u001b[94mQuery: Latest trends in the fashion industry \u001b[0m\n",
      "\u001b[96m (Similarity: 0.419)\u001b[0m RSS news content: Champagne, caffeine and chaos: Fashion week descends on Paris Louis Vuitton, Dior, Hermes, Rick Owens, Loewe, Kenzo and Dries Van Noten all introduce new collections in Paris. \n",
      "\u001b[96m (Similarity: 0.397)\u001b[0m RSS news content: The outfits: Stars turn on the style for the Oscars The fashion is as important as the films at the glittering Hollywood award ceremony.\n",
      "\u001b[96m (Similarity: 0.395)\u001b[0m RSS news content: London Fashion Week: Celebrating 40 years of catwalks As London Fashion Week marks four decades of creativity, we look back at some memorable moments.\n",
      "\u001b[96m (Similarity: 0.386)\u001b[0m RSS news content: In pictures: London Fashion Week's big moments A surprise appearance from the supermodel topped off the 40th anniversary celebrations.\n",
      "\u001b[96m (Similarity: 0.381)\u001b[0m RSS news content: Style in the spotlight for Ladies Day at Aintree It is all about the fashion as the second day of the Grand National Festival takes place at Aintree.\n",
      "\u001b[96m (Similarity: 0.376)\u001b[0m RSS news content: How Zendaya perfected 'method dressing' Film stars have made fancy dress fashionable in their recent red carpet looks.\n",
      "\u001b[96m (Similarity: 0.359)\u001b[0m RSS news content: Vinted makes first profit on used fashion The second-hand fashion marketplace is the first of the new \"pre-loved\" clothing platforms to make a profit.\n",
      "\u001b[96m (Similarity: 0.351)\u001b[0m RSS news content: When Louis Vuitton tries to make you change your brand name Experts say there has been a \"huge\" rise in people defending their trade mark bids in recent years.\n",
      "\u001b[96m (Similarity: 0.344)\u001b[0m RSS news content: Boohoo put 'Made in UK' labels on clothes made overseas T-shirts from Pakistan had their labels swapped by workers in fashion firm’s Leicester factory last year.\n",
      "\u001b[96m (Similarity: 0.341)\u001b[0m RSS news content: ‘Insane’ journey for NI supermodel from grammar school to Dior Omagh teenager Alice McGrath is the latest face of high fashion after being discovered online. \n"
     ]
    },
    {
     "name": "stderr",
     "output_type": "stream",
     "text": [
      "/var/folders/wj/kwc01w0n6tz34xh5_07vvwcw0000gp/T/ipykernel_13123/960460263.py:14: SettingWithCopyWarning: \n",
      "A value is trying to be set on a copy of a slice from a DataFrame.\n",
      "Try using .loc[row_indexer,col_indexer] = value instead\n",
      "\n",
      "See the caveats in the documentation: https://pandas.pydata.org/pandas-docs/stable/user_guide/indexing.html#returning-a-view-versus-a-copy\n",
      "  top_articles['cosine_similarity'] = similarities[top_indices]\n"
     ]
    }
   ],
   "source": [
    "search_open_ai_news(\"Recommended diet and exercise habits for managing obesity\")\n",
    "search_open_ai_news(\"How the war between Israel and Hamas is affecting global politics?\")\n",
    "search_open_ai_news(\"Latest trends in the fashion industry\")"
   ]
  },
  {
   "cell_type": "code",
   "execution_count": 122,
   "metadata": {},
   "outputs": [
    {
     "name": "stderr",
     "output_type": "stream",
     "text": [
      "/var/folders/wj/kwc01w0n6tz34xh5_07vvwcw0000gp/T/ipykernel_13123/960460263.py:14: SettingWithCopyWarning: \n",
      "A value is trying to be set on a copy of a slice from a DataFrame.\n",
      "Try using .loc[row_indexer,col_indexer] = value instead\n",
      "\n",
      "See the caveats in the documentation: https://pandas.pydata.org/pandas-docs/stable/user_guide/indexing.html#returning-a-view-versus-a-copy\n",
      "  top_articles['cosine_similarity'] = similarities[top_indices]\n"
     ]
    },
    {
     "name": "stdout",
     "output_type": "stream",
     "text": [
      "\u001b[94mQuery: Best Marvel movie this year \u001b[0m\n",
      "\u001b[96m (Similarity: 0.407)\u001b[0m RSS news content: Moana: Disney's hit animation to get surprise cinema sequel this year Disney's unexpected announcement sets up a box office battle with the first Wicked film.\n",
      "\u001b[96m (Similarity: 0.366)\u001b[0m RSS news content: Marvel star Jeremy Renner: I'm so blessed a year after accident The Marvel star reflects on his recovery after being run over by his own snow plough last New Year's Day.\n",
      "\u001b[96m (Similarity: 0.363)\u001b[0m RSS news content: Deadpool 3 and Wicked trailers air in Super Bowl adverts Fans were given a first look at the upcoming films during Sunday night's NFL showdown.\n",
      "\u001b[96m (Similarity: 0.348)\u001b[0m RSS news content: Marvel star Majors avoids jail and gets probation Ex-Marvel star avoids jail for assaulting his ex-girlfriend but will attend an intervention programme.\n",
      "\u001b[96m (Similarity: 0.345)\u001b[0m RSS news content: All you need to know for tonight's Bafta Games Awards Zelda, Baldur's Gate 3 and Spider-Man 2 are among the frontrunners at this year's ceremony.\n",
      "\u001b[96m (Similarity: 0.318)\u001b[0m RSS news content: Oppenheimer among Bafta best film nominees Barbie was the top grossing film of 2023 and received great reviews, but missed out on a best film nomination.\n",
      "\u001b[96m (Similarity: 0.314)\u001b[0m RSS news content: Oppenheimer: Cillian Murphy film marches towards Oscars success Christopher Nolan's film got another boost in its awards campaign at last week's Golden Globes.\n",
      "\u001b[96m (Similarity: 0.311)\u001b[0m RSS news content: Tom Holland's Romeo wows crowds more than critics Reviews describe the Spider-Man star's performance on stage as \"good\", \"fine\" and \"perfectly OK\".\n",
      "\u001b[96m (Similarity: 0.306)\u001b[0m RSS news content: Tom Holland's Avengers bonus sent to Tom Hollander in error The White Lotus star said the Spiderman actor received a seven-figure first bonus for Avengers.\n",
      "\u001b[96m (Similarity: 0.302)\u001b[0m RSS news content: Madame Web: Critics savage Dakota Johnson's Spider-Man spin-off The trailer went viral for how awful it was, and the film has not fared much better with critics.\n"
     ]
    },
    {
     "name": "stderr",
     "output_type": "stream",
     "text": [
      "/var/folders/wj/kwc01w0n6tz34xh5_07vvwcw0000gp/T/ipykernel_13123/960460263.py:14: SettingWithCopyWarning: \n",
      "A value is trying to be set on a copy of a slice from a DataFrame.\n",
      "Try using .loc[row_indexer,col_indexer] = value instead\n",
      "\n",
      "See the caveats in the documentation: https://pandas.pydata.org/pandas-docs/stable/user_guide/indexing.html#returning-a-view-versus-a-copy\n",
      "  top_articles['cosine_similarity'] = similarities[top_indices]\n"
     ]
    },
    {
     "name": "stdout",
     "output_type": "stream",
     "text": [
      "\u001b[94mQuery: biden vs trump \u001b[0m\n",
      "\u001b[96m (Similarity: 0.560)\u001b[0m RSS news content: Where Biden and Trump stand on key issues How the two candidates' policies compare on the economy, immigration, abortion and other big issues.\n",
      "\u001b[96m (Similarity: 0.544)\u001b[0m RSS news content: Biden and Trump make competing trips to US border The two likely presidential candidates make speeches in an effort to show they can tackle illegal crossings.\n",
      "\u001b[96m (Similarity: 0.537)\u001b[0m RSS news content: Biden says he's ready for election debate with Trump US President says he is \"happy\" to face rival who claims he is ready \"anytime, anywhere, anyplace\".\n",
      "\u001b[96m (Similarity: 0.530)\u001b[0m RSS news content: Watch key moments from Biden and Trump's first debate The pair threw insults and clashed on stage about the biggest issues American voters care about - here's what they said.\n",
      "\u001b[96m (Similarity: 0.526)\u001b[0m RSS news content: Big stakes and high tension as Biden-Trump debate looms Thursday's debate between the two will be a reunion of sorts - although not exactly a friendly one.\n",
      "\u001b[96m (Similarity: 0.521)\u001b[0m RSS news content: 'A reality show': World reacts to Trump-Biden debate  Global reviews were most scathing of Mr Biden, but his Republican challenger did not escape criticism.\n",
      "\u001b[96m (Similarity: 0.517)\u001b[0m RSS news content: What to watch for at Biden and Trump's first debate The BBC's Sarah Smith looks at what's at stake for both men as they prove they're worth a second White House term.\n",
      "\u001b[96m (Similarity: 0.483)\u001b[0m RSS news content: Analysis: Biden's incoherent debate performance heightens fears over his age The president came into his debate with Donald Trump with a low bar to clear, and he struggled, writes Anthony Zurcher. \n",
      "\u001b[96m (Similarity: 0.475)\u001b[0m RSS news content: Biden and Trump agree two debates as RFK cries foul There will be no live audience at June's Atlanta event, which will mark the pair's first on-stage clash in four years.\n",
      "\u001b[96m (Similarity: 0.469)\u001b[0m RSS news content: Super Tuesday: Everything Points to Trump vs Biden Trump and Biden win almost every state in election season's biggest primary night.\n",
      "\u001b[94mQuery: Best fishing places in the world \u001b[0m\n",
      "\u001b[96m (Similarity: 0.385)\u001b[0m RSS news content: Amateur angler lands UK's 'biggest fish' Darren Reitz says his \"wrist is still hurting\" from reeling in the \"monster\" catfish, which has been nicknamed \"Scar\".\n",
      "\u001b[96m (Similarity: 0.339)\u001b[0m RSS news content: How AI is being used to prevent illegal fishing Illegal fishing remains a huge global problem, but AI is now being used to tackle the issue.\n",
      "\u001b[96m (Similarity: 0.296)\u001b[0m RSS news content: World's oceans break temperature records every single day of past year Every single day of the past 12 months has seen a new global sea temperature high for the time of year.\n",
      "\u001b[96m (Similarity: 0.288)\u001b[0m RSS news content: Global tourism is booming. These people would rather it wasn’t Locals in some of the world's tourism hotspots say they are being overwhelmed. What can be done about it?\n",
      "\u001b[96m (Similarity: 0.279)\u001b[0m RSS news content: 'We are restoring oysters once made extinct' Thirty thousand rare oysters are being reintroduced to the Firth of Forth having been wiped out by overfishing and pollution.\n",
      "\u001b[96m (Similarity: 0.277)\u001b[0m RSS news content: Man's joy at Northern Lights and glowing plankton sea shots Photographer Lee McGrath waited hours to capture the amazing phenomenon on the south Wales coast. \n",
      "\u001b[96m (Similarity: 0.272)\u001b[0m RSS news content: Tourist influx turns Lake Windermere green, researchers say New research links algal blooming at England's largest lake with increased visitor numbers\n",
      "\u001b[96m (Similarity: 0.268)\u001b[0m RSS news content: What lurks beneath: Treasures, wrecks and curios More than 300 items found at sea were reported last year including an elephant tusk and human bones.\n",
      "\u001b[96m (Similarity: 0.267)\u001b[0m RSS news content: World Aquatics Championships 2024: Great Britain's Laura Stephens wins butterfly for maiden title Great Britain's Laura Stephens wins maiden world title in women's 200m butterfly at World Aquatics Championships in Doha.\n",
      "\u001b[96m (Similarity: 0.264)\u001b[0m RSS news content: Parents pay tribute to surfers killed in Mexico \"The world has become a darker place for us,\" say the Australian parents of brothers Callum and Jake.\n"
     ]
    },
    {
     "name": "stderr",
     "output_type": "stream",
     "text": [
      "/var/folders/wj/kwc01w0n6tz34xh5_07vvwcw0000gp/T/ipykernel_13123/960460263.py:14: SettingWithCopyWarning: \n",
      "A value is trying to be set on a copy of a slice from a DataFrame.\n",
      "Try using .loc[row_indexer,col_indexer] = value instead\n",
      "\n",
      "See the caveats in the documentation: https://pandas.pydata.org/pandas-docs/stable/user_guide/indexing.html#returning-a-view-versus-a-copy\n",
      "  top_articles['cosine_similarity'] = similarities[top_indices]\n"
     ]
    }
   ],
   "source": [
    "search_open_ai_news(\"Best Marvel movie this year\") \n",
    "search_open_ai_news(\"biden vs trump\")\n",
    "search_open_ai_news(\"Best fishing places in the world\")"
   ]
  },
  {
   "cell_type": "markdown",
   "metadata": {},
   "source": [
    "## Optimal threshold 0.45"
   ]
  },
  {
   "cell_type": "code",
   "execution_count": 123,
   "metadata": {},
   "outputs": [
    {
     "name": "stdout",
     "output_type": "stream",
     "text": [
      "\u001b[94mQuery: Northern Lights \u001b[0m\n",
      "\u001b[96m (Similarity: 0.609)\u001b[0m RSS news content: Northern lights give spectacular surprise display across UK In a sudden display the aurora was seen from the Highlands down to Cornwall on Sunday night.\n",
      "\u001b[96m (Similarity: 0.598)\u001b[0m RSS news content: Northern Lights in dazzling display across the UK A solar storm of this scale can cause disruptions to infrastructure such as the power grid.\n",
      "\u001b[96m (Similarity: 0.567)\u001b[0m RSS news content: Can I see the Northern Lights tonight? Missed the Northern lights last night? Don't worry, there will be another opportunity to see them tonight. Here's how.\n",
      "\u001b[96m (Similarity: 0.557)\u001b[0m RSS news content: More Northern Lights soon as Sun storms strengthen Another spectacular light show could come within two weeks as Sun storms reach 11-year high.\n",
      "\u001b[96m (Similarity: 0.535)\u001b[0m RSS news content: In pictures: Northern Lights dazzle around the world The aurora borealis was visible around the world on Friday night, stunning photographers everywhere.\n",
      "\u001b[96m (Similarity: 0.528)\u001b[0m RSS news content: Why you probably missed the Northern Lights on Saturday The Northern Lights waned early on Saturday night, but picked up again much later.\n",
      "\u001b[96m (Similarity: 0.494)\u001b[0m RSS news content: Watch: Northern Lights captured glowing over volcano Volcanic eruptions have been taking place in the region since 14 January.\n",
      "\u001b[96m (Similarity: 0.451)\u001b[0m RSS news content: Man's joy at Northern Lights and glowing plankton sea shots Photographer Lee McGrath waited hours to capture the amazing phenomenon on the south Wales coast. \n",
      "\u001b[96m (Similarity: 0.376)\u001b[0m RSS news content: Mysterious streaks of light seen in California sky Video shows a strange shower of lights streaking overhead in the night sky in the early hours of 2 April.\n",
      "\u001b[96m (Similarity: 0.354)\u001b[0m RSS news content: Scientists discover cause of brightest-ever burst of light The brightest burst of light ever recorded was caused by a supernova, but that prompts new questions.\n"
     ]
    },
    {
     "name": "stderr",
     "output_type": "stream",
     "text": [
      "/var/folders/wj/kwc01w0n6tz34xh5_07vvwcw0000gp/T/ipykernel_13123/960460263.py:14: SettingWithCopyWarning: \n",
      "A value is trying to be set on a copy of a slice from a DataFrame.\n",
      "Try using .loc[row_indexer,col_indexer] = value instead\n",
      "\n",
      "See the caveats in the documentation: https://pandas.pydata.org/pandas-docs/stable/user_guide/indexing.html#returning-a-view-versus-a-copy\n",
      "  top_articles['cosine_similarity'] = similarities[top_indices]\n"
     ]
    }
   ],
   "source": [
    "search_open_ai_news(\"Northern Lights\")"
   ]
  }
 ],
 "metadata": {
  "kernelspec": {
   "display_name": "venv",
   "language": "python",
   "name": "python3"
  },
  "language_info": {
   "codemirror_mode": {
    "name": "ipython",
    "version": 3
   },
   "file_extension": ".py",
   "mimetype": "text/x-python",
   "name": "python",
   "nbconvert_exporter": "python",
   "pygments_lexer": "ipython3",
   "version": "3.11.10"
  }
 },
 "nbformat": 4,
 "nbformat_minor": 2
}
